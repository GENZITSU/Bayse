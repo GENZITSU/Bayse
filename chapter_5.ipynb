{
 "cells": [
  {
   "cell_type": "markdown",
   "metadata": {
    "heading_collapsed": true
   },
   "source": [
    "# 第5章の実装"
   ]
  },
  {
   "cell_type": "code",
   "execution_count": 16,
   "metadata": {
    "hidden": true
   },
   "outputs": [],
   "source": [
    "import time\n",
    "import math\n",
    "import matplotlib.pyplot as plt\n",
    "from mpl_toolkits.mplot3d import Axes3D \n",
    "\n",
    "\n",
    "import numpy as np\n",
    "import pandas as pd\n",
    "from scipy import stats\n",
    "from PIL import Image, ImageDraw\n",
    "from sklearn.decomposition import NMF\n",
    "from tqdm import tqdm_notebook as tqdm\n",
    "from scipy.special import digamma as sp_digamma"
   ]
  },
  {
   "cell_type": "markdown",
   "metadata": {
    "hidden": true
   },
   "source": [
    "\n",
    "# NMF"
   ]
  },
  {
   "cell_type": "code",
   "execution_count": 2,
   "metadata": {
    "hidden": true
   },
   "outputs": [
    {
     "data": {
      "text/html": [
       "<div>\n",
       "<style scoped>\n",
       "    .dataframe tbody tr th:only-of-type {\n",
       "        vertical-align: middle;\n",
       "    }\n",
       "\n",
       "    .dataframe tbody tr th {\n",
       "        vertical-align: top;\n",
       "    }\n",
       "\n",
       "    .dataframe thead th {\n",
       "        text-align: right;\n",
       "    }\n",
       "</style>\n",
       "<table border=\"1\" class=\"dataframe\">\n",
       "  <thead>\n",
       "    <tr style=\"text-align: right;\">\n",
       "      <th></th>\n",
       "      <th>user_id</th>\n",
       "      <th>item_id</th>\n",
       "      <th>rating</th>\n",
       "      <th>timestamp</th>\n",
       "    </tr>\n",
       "  </thead>\n",
       "  <tbody>\n",
       "    <tr>\n",
       "      <th>0</th>\n",
       "      <td>196</td>\n",
       "      <td>242</td>\n",
       "      <td>3</td>\n",
       "      <td>881250949</td>\n",
       "    </tr>\n",
       "    <tr>\n",
       "      <th>1</th>\n",
       "      <td>186</td>\n",
       "      <td>302</td>\n",
       "      <td>3</td>\n",
       "      <td>891717742</td>\n",
       "    </tr>\n",
       "    <tr>\n",
       "      <th>2</th>\n",
       "      <td>22</td>\n",
       "      <td>377</td>\n",
       "      <td>1</td>\n",
       "      <td>878887116</td>\n",
       "    </tr>\n",
       "    <tr>\n",
       "      <th>3</th>\n",
       "      <td>244</td>\n",
       "      <td>51</td>\n",
       "      <td>2</td>\n",
       "      <td>880606923</td>\n",
       "    </tr>\n",
       "    <tr>\n",
       "      <th>4</th>\n",
       "      <td>166</td>\n",
       "      <td>346</td>\n",
       "      <td>1</td>\n",
       "      <td>886397596</td>\n",
       "    </tr>\n",
       "  </tbody>\n",
       "</table>\n",
       "</div>"
      ],
      "text/plain": [
       "   user_id  item_id  rating  timestamp\n",
       "0      196      242       3  881250949\n",
       "1      186      302       3  891717742\n",
       "2       22      377       1  878887116\n",
       "3      244       51       2  880606923\n",
       "4      166      346       1  886397596"
      ]
     },
     "execution_count": 2,
     "metadata": {},
     "output_type": "execute_result"
    }
   ],
   "source": [
    "# 今回はサイトから直接データを引っ張ってきている\n",
    "data_org = pd.read_csv(\n",
    "   'http://files.grouplens.org/datasets/movielens/ml-100k/u.data', names=[\"user_id\", \"item_id\", \"rating\", \"timestamp\"], sep=\"\\t\")\n",
    "data_org.head()"
   ]
  },
  {
   "cell_type": "code",
   "execution_count": 4,
   "metadata": {
    "hidden": true
   },
   "outputs": [],
   "source": [
    "# item_id x user_idの行列に変換する\n",
    "item_list = data_org.sort_values('item_id').item_id.unique()\n",
    "user_list = data_org.user_id.unique()\n",
    "rating_matrix_item = np.zeros([len(item_list), len(user_list)])"
   ]
  },
  {
   "cell_type": "code",
   "execution_count": 5,
   "metadata": {
    "hidden": true
   },
   "outputs": [
    {
     "data": {
      "text/plain": [
       "(1682, 943)"
      ]
     },
     "execution_count": 5,
     "metadata": {},
     "output_type": "execute_result"
    }
   ],
   "source": [
    "rating_matrix_item.shape"
   ]
  },
  {
   "cell_type": "code",
   "execution_count": 24,
   "metadata": {
    "hidden": true
   },
   "outputs": [],
   "source": [
    "# Movie Lensのtrain, testを読み込む\n",
    "movie_data_train = pd.read_csv(\n",
    "   'data/ml-100k/ua.base', names=[\"user_id\", \"item_id\", \"rating\", \"timestamp\"], sep=\"\\t\")\n",
    "movie_data_test = pd.read_csv(\n",
    "   'data/ml-100k/ua.test', names=[\"user_id\", \"item_id\", \"rating\", \"timestamp\"], sep=\"\\t\")"
   ]
  },
  {
   "cell_type": "code",
   "execution_count": 29,
   "metadata": {
    "hidden": true
   },
   "outputs": [
    {
     "name": "stdout",
     "output_type": "stream",
     "text": [
      "train user num :  943\n",
      "train item num :  1680\n",
      "test user num :  943\n",
      "test item num :  1129\n",
      "共通user数 : 943\n",
      "共通item数 : 1127\n"
     ]
    }
   ],
   "source": [
    "# trainのuser数, item数\n",
    "print(\"train user num : \", len(movie_data_train[\"user_id\"].unique()))\n",
    "print(\"train item num : \", len(movie_data_train[\"item_id\"].unique()))\n",
    "print(\"test user num : \", len(movie_data_test[\"user_id\"].unique()))\n",
    "print(\"test item num : \", len(movie_data_test[\"item_id\"].unique()))\n",
    "\n",
    "\n",
    "print(\"共通user数 : \", end=\"\")\n",
    "print(len(set(movie_data_train[\"user_id\"].unique()) & set(movie_data_test[\"user_id\"].unique())))\n",
    "print(\"共通item数 : \", end=\"\")\n",
    "print(len(set(movie_data_train[\"item_id\"].unique()) & set(movie_data_test[\"item_id\"].unique())))"
   ]
  },
  {
   "cell_type": "code",
   "execution_count": 459,
   "metadata": {
    "hidden": true
   },
   "outputs": [
    {
     "data": {
      "text/html": [
       "<div>\n",
       "<style scoped>\n",
       "    .dataframe tbody tr th:only-of-type {\n",
       "        vertical-align: middle;\n",
       "    }\n",
       "\n",
       "    .dataframe tbody tr th {\n",
       "        vertical-align: top;\n",
       "    }\n",
       "\n",
       "    .dataframe thead th {\n",
       "        text-align: right;\n",
       "    }\n",
       "</style>\n",
       "<table border=\"1\" class=\"dataframe\">\n",
       "  <thead>\n",
       "    <tr style=\"text-align: right;\">\n",
       "      <th></th>\n",
       "      <th>user_id</th>\n",
       "      <th>item_id</th>\n",
       "      <th>rating</th>\n",
       "      <th>timestamp</th>\n",
       "    </tr>\n",
       "  </thead>\n",
       "  <tbody>\n",
       "    <tr>\n",
       "      <th>0</th>\n",
       "      <td>1</td>\n",
       "      <td>1</td>\n",
       "      <td>5</td>\n",
       "      <td>874965758</td>\n",
       "    </tr>\n",
       "    <tr>\n",
       "      <th>1</th>\n",
       "      <td>1</td>\n",
       "      <td>2</td>\n",
       "      <td>3</td>\n",
       "      <td>876893171</td>\n",
       "    </tr>\n",
       "    <tr>\n",
       "      <th>2</th>\n",
       "      <td>1</td>\n",
       "      <td>3</td>\n",
       "      <td>4</td>\n",
       "      <td>878542960</td>\n",
       "    </tr>\n",
       "    <tr>\n",
       "      <th>3</th>\n",
       "      <td>1</td>\n",
       "      <td>4</td>\n",
       "      <td>3</td>\n",
       "      <td>876893119</td>\n",
       "    </tr>\n",
       "    <tr>\n",
       "      <th>4</th>\n",
       "      <td>1</td>\n",
       "      <td>5</td>\n",
       "      <td>3</td>\n",
       "      <td>889751712</td>\n",
       "    </tr>\n",
       "  </tbody>\n",
       "</table>\n",
       "</div>"
      ],
      "text/plain": [
       "   user_id  item_id  rating  timestamp\n",
       "0        1        1       5  874965758\n",
       "1        1        2       3  876893171\n",
       "2        1        3       4  878542960\n",
       "3        1        4       3  876893119\n",
       "4        1        5       3  889751712"
      ]
     },
     "execution_count": 459,
     "metadata": {},
     "output_type": "execute_result"
    }
   ],
   "source": [
    "movie_data_train.head()"
   ]
  },
  {
   "cell_type": "code",
   "execution_count": 460,
   "metadata": {
    "hidden": true
   },
   "outputs": [
    {
     "data": {
      "text/html": [
       "<div>\n",
       "<style scoped>\n",
       "    .dataframe tbody tr th:only-of-type {\n",
       "        vertical-align: middle;\n",
       "    }\n",
       "\n",
       "    .dataframe tbody tr th {\n",
       "        vertical-align: top;\n",
       "    }\n",
       "\n",
       "    .dataframe thead th {\n",
       "        text-align: right;\n",
       "    }\n",
       "</style>\n",
       "<table border=\"1\" class=\"dataframe\">\n",
       "  <thead>\n",
       "    <tr style=\"text-align: right;\">\n",
       "      <th></th>\n",
       "      <th>user_id</th>\n",
       "      <th>item_id</th>\n",
       "      <th>rating</th>\n",
       "      <th>timestamp</th>\n",
       "    </tr>\n",
       "  </thead>\n",
       "  <tbody>\n",
       "    <tr>\n",
       "      <th>0</th>\n",
       "      <td>1</td>\n",
       "      <td>20</td>\n",
       "      <td>4</td>\n",
       "      <td>887431883</td>\n",
       "    </tr>\n",
       "    <tr>\n",
       "      <th>1</th>\n",
       "      <td>1</td>\n",
       "      <td>33</td>\n",
       "      <td>4</td>\n",
       "      <td>878542699</td>\n",
       "    </tr>\n",
       "    <tr>\n",
       "      <th>2</th>\n",
       "      <td>1</td>\n",
       "      <td>61</td>\n",
       "      <td>4</td>\n",
       "      <td>878542420</td>\n",
       "    </tr>\n",
       "    <tr>\n",
       "      <th>3</th>\n",
       "      <td>1</td>\n",
       "      <td>117</td>\n",
       "      <td>3</td>\n",
       "      <td>874965739</td>\n",
       "    </tr>\n",
       "    <tr>\n",
       "      <th>4</th>\n",
       "      <td>1</td>\n",
       "      <td>155</td>\n",
       "      <td>2</td>\n",
       "      <td>878542201</td>\n",
       "    </tr>\n",
       "  </tbody>\n",
       "</table>\n",
       "</div>"
      ],
      "text/plain": [
       "   user_id  item_id  rating  timestamp\n",
       "0        1       20       4  887431883\n",
       "1        1       33       4  878542699\n",
       "2        1       61       4  878542420\n",
       "3        1      117       3  874965739\n",
       "4        1      155       2  878542201"
      ]
     },
     "execution_count": 460,
     "metadata": {},
     "output_type": "execute_result"
    }
   ],
   "source": [
    "movie_data_test.head()"
   ]
  },
  {
   "cell_type": "markdown",
   "metadata": {
    "hidden": true
   },
   "source": [
    "testのみに出現するitemもあることに注意"
   ]
  },
  {
   "cell_type": "code",
   "execution_count": 22,
   "metadata": {
    "hidden": true
   },
   "outputs": [],
   "source": [
    "# 全itemが入っているuser * item　matrixを作成する"
   ]
  },
  {
   "cell_type": "code",
   "execution_count": 31,
   "metadata": {
    "hidden": true
   },
   "outputs": [
    {
     "data": {
      "text/plain": [
       "array([   1,    2,    3, ..., 1258,  570,  808])"
      ]
     },
     "execution_count": 31,
     "metadata": {},
     "output_type": "execute_result"
    }
   ],
   "source": [
    "np.r_[movie_data_train[\"user_id\"].unique(), movie_data_test[\"item_id\"].unique()]"
   ]
  },
  {
   "cell_type": "code",
   "execution_count": 59,
   "metadata": {
    "hidden": true
   },
   "outputs": [
    {
     "data": {
      "text/plain": [
       "array([   1,    2,    3, ..., 1680, 1681, 1682])"
      ]
     },
     "execution_count": 59,
     "metadata": {},
     "output_type": "execute_result"
    }
   ],
   "source": [
    "item_list"
   ]
  },
  {
   "cell_type": "code",
   "execution_count": 63,
   "metadata": {
    "hidden": true,
    "scrolled": true
   },
   "outputs": [
    {
     "data": {
      "application/vnd.jupyter.widget-view+json": {
       "model_id": "daa769f9df0b4901bca7575122d0084d",
       "version_major": 2,
       "version_minor": 0
      },
      "text/plain": [
       "HBox(children=(IntProgress(value=0, max=1682), HTML(value='')))"
      ]
     },
     "metadata": {},
     "output_type": "display_data"
    },
    {
     "data": {
      "application/vnd.jupyter.widget-view+json": {
       "model_id": "c2607747c8a24580b52a84659f864f4a",
       "version_major": 2,
       "version_minor": 0
      },
      "text/plain": [
       "HBox(children=(IntProgress(value=0, max=1682), HTML(value='')))"
      ]
     },
     "metadata": {},
     "output_type": "display_data"
    }
   ],
   "source": [
    "### item_id x user_idの行列に変換する\n",
    "\n",
    "# train\n",
    "item_list = np.unique(np.r_[movie_data_train[\"item_id\"].unique(), movie_data_test[\"item_id\"].unique()])\n",
    "user_list = movie_data_train[\"user_id\"].unique()\n",
    "rating_matrix_item = np.zeros([len(item_list), len(user_list)])\n",
    "\n",
    "for item_id in tqdm(item_list):\n",
    "    user_list_item = movie_data_train[movie_data_train['item_id'] == item_id].sort_values('user_id').user_id.unique()\n",
    "    for user_id in user_list_item:\n",
    "        user_rate = movie_data_train[(movie_data_train['item_id'] == item_id) & (movie_data_train['user_id'] == user_id)].loc[:, 'rating']\n",
    "        if len(user_rate) == 0:\n",
    "            user_rate = 0\n",
    "        rating_matrix_item[item_id-1, user_id-1] = user_rate\n",
    "rating_matrix_train = np.copy(rating_matrix_item)\n",
    "\n",
    "# test\n",
    "item_list = np.unique(np.r_[movie_data_train[\"item_id\"].unique(), movie_data_test[\"item_id\"].unique()])\n",
    "user_list = movie_data_train[\"user_id\"].unique()\n",
    "rating_matrix_item = np.zeros([len(item_list), len(user_list)])\n",
    "\n",
    "for item_id in tqdm(item_list):\n",
    "    user_list_item = movie_data_test[movie_data_test['item_id'] == item_id].sort_values('user_id').user_id.unique()\n",
    "    for user_id in user_list_item:\n",
    "        user_rate = movie_data_test[(movie_data_test['item_id'] == item_id) & (movie_data_test['user_id'] == user_id)].loc[:, 'rating']\n",
    "        if len(user_rate) == 0:\n",
    "            user_rate = 0\n",
    "        rating_matrix_item[item_id-1, user_id-1] = user_rate\n",
    "rating_matrix_test = np.copy(rating_matrix_item)"
   ]
  },
  {
   "cell_type": "code",
   "execution_count": 143,
   "metadata": {
    "hidden": true
   },
   "outputs": [],
   "source": [
    "# 各ユーザーが未評価なitemのフラグ\n",
    "rated_item_train = np.array(rating_matrix_train != 0, dtype=np.float32)\n",
    "rated_item_test = np.array(rating_matrix_test != 0, dtype=np.float32)"
   ]
  },
  {
   "cell_type": "code",
   "execution_count": 144,
   "metadata": {
    "hidden": true
   },
   "outputs": [
    {
     "data": {
      "text/plain": [
       "90570.0"
      ]
     },
     "execution_count": 144,
     "metadata": {},
     "output_type": "execute_result"
    }
   ],
   "source": [
    "np.sum(rated_item_train)"
   ]
  },
  {
   "cell_type": "code",
   "execution_count": 145,
   "metadata": {
    "hidden": true
   },
   "outputs": [
    {
     "data": {
      "text/plain": [
       "9430.0"
      ]
     },
     "execution_count": 145,
     "metadata": {},
     "output_type": "execute_result"
    }
   ],
   "source": [
    "np.sum(rated_item_test)"
   ]
  },
  {
   "cell_type": "markdown",
   "metadata": {
    "hidden": true
   },
   "source": [
    "## Scikit-Learn 実装の NMF\n",
    "ただし欠損値の考慮がされていない"
   ]
  },
  {
   "cell_type": "code",
   "execution_count": 163,
   "metadata": {
    "hidden": true
   },
   "outputs": [],
   "source": [
    "def calc_rmse(w, h, rating_matrix, target_item):\n",
    "    '''学習したw, hによる推定評価値のあてはまりの良さを\n",
    "    userが評価したitemだけを見たRMSEで評価する\n",
    "    '''\n",
    "    n = np.sum(target_item)\n",
    "    target_e = (rating_matrix - np.dot(w, h)) * target_item\n",
    "    mse = np.sum(target_e ** 2)\n",
    "    rmse = np.sqrt(mse / n)\n",
    "    return rmse"
   ]
  },
  {
   "cell_type": "code",
   "execution_count": 188,
   "metadata": {
    "hidden": true
   },
   "outputs": [
    {
     "data": {
      "image/png": "[encoded data removed]",
      "text/plain": [
       "<Figure size 432x288 with 1 Axes>"
      ]
     },
     "metadata": {},
     "output_type": "display_data"
    }
   ],
   "source": [
    "train_rsmes = []\n",
    "test_rsmes = []\n",
    "for i in range(50):\n",
    "    nmf = NMF(n_components=i+1, init='random', random_state=20190405)\n",
    "    w = nmf.fit_transform(rating_matrix_train)\n",
    "    h = nmf.components_\n",
    "    train_rsmes.append(calc_rmse(w, h, rating_matrix_train, rated_item_train))\n",
    "    test_rsmes.append(calc_rmse(w, h, rating_matrix_test, rated_item_test))\n",
    "    \n",
    "plt.plot(np.arange(50), train_rsmes, label=\"train\")\n",
    "plt.plot(np.arange(50), test_rsmes, label=\"test\")\n",
    "plt.ylim(2, 4)\n",
    "plt.legend()\n",
    "plt.grid()\n",
    "plt.title(\"Root Mean Squared Error\")\n",
    "plt.show()"
   ]
  },
  {
   "cell_type": "code",
   "execution_count": 186,
   "metadata": {
    "hidden": true
   },
   "outputs": [
    {
     "data": {
      "image/png": "[encoded data removed]",
      "text/plain": [
       "<Figure size 432x288 with 1 Axes>"
      ]
     },
     "metadata": {},
     "output_type": "display_data"
    },
    {
     "data": {
      "image/png": "[encoded data removed]",
      "text/plain": [
       "<Figure size 432x288 with 1 Axes>"
      ]
     },
     "metadata": {},
     "output_type": "display_data"
    }
   ],
   "source": [
    "plt.hist((rating_matrix_train - np.dot(w, h))[np.array(rated_item_train, dtype=\"bool\")], bins=30)\n",
    "plt.title(\"train error hist\")\n",
    "plt.show()\n",
    "\n",
    "plt.hist((rating_matrix_train - np.dot(w, h))[np.array(rated_item_train, dtype=\"bool\")], bins=30)\n",
    "plt.title(\"test error hist\")\n",
    "plt.show()"
   ]
  },
  {
   "cell_type": "markdown",
   "metadata": {
    "hidden": true
   },
   "source": [
    "## 欠損値を考慮したNMF"
   ]
  },
  {
   "cell_type": "code",
   "execution_count": 203,
   "metadata": {
    "hidden": true
   },
   "outputs": [],
   "source": [
    "def update(rating_matrix, mask, W, H):\n",
    "    '''欠損値のlossは伝搬させないNMFのW, Hの更新式\n",
    "    '''\n",
    "    W = W * np.dot(rating_matrix * mask, H.T) / (np.dot(np.dot(W, H) * mask, H.T)+1e-10)\n",
    "    H = H * np.dot(W.T, rating_matrix * mask) / (np.dot(W.T, np.dot(W, H) * mask)+1e-10)\n",
    "    return W, H"
   ]
  },
  {
   "cell_type": "code",
   "execution_count": 204,
   "metadata": {
    "hidden": true
   },
   "outputs": [],
   "source": [
    "def nmf_with_na(rating_matrix, k=10):\n",
    "    # W, Hをランダムに初期化する\n",
    "    n, m = rating_matrix.shape\n",
    "    W = np.random.rand(n, k)\n",
    "    H = np.random.rand(k, m)\n",
    "    mask = (rating_matrix > 0)\n",
    "\n",
    "    for _ in range(100):\n",
    "        W, H = update(rating_matrix, mask, W, H)\n",
    "        \n",
    "    return W, H"
   ]
  },
  {
   "cell_type": "code",
   "execution_count": 213,
   "metadata": {
    "hidden": true
   },
   "outputs": [],
   "source": [
    "train_rsmes = []\n",
    "test_rsmes = []\n",
    "for i in range(50):\n",
    "    w, h = nmf_with_na(rating_matrix_train, k=i+1)\n",
    "    train_rsmes.append(calc_rmse(w, h, rating_matrix_train, rated_item_train))\n",
    "    test_rsmes.append(calc_rmse(w, h, rating_matrix_test, rated_item_test))"
   ]
  },
  {
   "cell_type": "code",
   "execution_count": 212,
   "metadata": {
    "hidden": true
   },
   "outputs": [
    {
     "data": {
      "image/png": "[encoded data removed]",
      "text/plain": [
       "<Figure size 432x288 with 1 Axes>"
      ]
     },
     "metadata": {},
     "output_type": "display_data"
    }
   ],
   "source": [
    "plt.plot(np.arange(50), train_rsmes, label=\"train\")\n",
    "plt.plot(np.arange(50), test_rsmes, label=\"test\")\n",
    "# plt.ylim(2, 4)\n",
    "plt.legend()\n",
    "plt.grid()\n",
    "plt.title(\"Root Mean Squared Error\")\n",
    "plt.show()"
   ]
  },
  {
   "cell_type": "code",
   "execution_count": 215,
   "metadata": {
    "hidden": true
   },
   "outputs": [
    {
     "data": {
      "image/png": "[encoded data removed]",
      "text/plain": [
       "<Figure size 432x288 with 1 Axes>"
      ]
     },
     "metadata": {},
     "output_type": "display_data"
    },
    {
     "data": {
      "image/png": "[encoded data removed]",
      "text/plain": [
       "<Figure size 432x288 with 1 Axes>"
      ]
     },
     "metadata": {},
     "output_type": "display_data"
    }
   ],
   "source": [
    "w, h = nmf_with_na(rating_matrix_train, k=10)\n",
    "plt.hist((rating_matrix_train - np.dot(w, h))[np.array(rated_item_train, dtype=\"bool\")], bins=30)\n",
    "plt.title(\"train error hist\")\n",
    "plt.show()\n",
    "\n",
    "plt.hist((rating_matrix_test - np.dot(w, h))[np.array(rated_item_test, dtype=\"bool\")], bins=30)\n",
    "plt.title(\"test error hist\")\n",
    "plt.show()"
   ]
  },
  {
   "cell_type": "markdown",
   "metadata": {
    "hidden": true
   },
   "source": [
    "## ベイズ推論によるNMF"
   ]
  },
  {
   "cell_type": "code",
   "execution_count": 434,
   "metadata": {
    "hidden": true
   },
   "outputs": [],
   "source": [
    "class NMF:\n",
    "    '''混合ガウスモデルをギブスサンプリングで推定する\n",
    "    '''\n",
    "    def __init__(self, a_w, b_w, a_h, b_h, max_iter=10):\n",
    "        '''事前分布の初期値を設定する\n",
    "        inputs : a_w, array(n * k), {a_w_i > 0}\n",
    "                      b_w, array(n * k), {b_w_i > 0}\n",
    "                      a_h, array(k, m), {a_h_i > 0}\n",
    "                      b_h, array(k, m), {b_h_i > 0}\n",
    "                      max_iter, int, max_iter > 0\n",
    "        '''\n",
    "        # 確率分布Wのパラメータ\n",
    "        self.a_w = np.array(a_w)\n",
    "        self.b_w = np.array(b_w)\n",
    "        # 確率分布Hのパラメータ\n",
    "        self.a_h = np.array(a_h)\n",
    "        self.b_h = np.array(b_h)\n",
    "        \n",
    "        self.max_iter = max_iter\n",
    "        self.k = self.a_w.shape[1]\n",
    "        self.n = self.a_w.shape[0]\n",
    "        self.m = self.a_h.shape[1]\n",
    "        \n",
    "    def fit(self, X):\n",
    "        '''データXをみた後の事後分布を更新\n",
    "        inputs : X, array(n * m),\n",
    "        return : None\n",
    "        '''\n",
    "        \n",
    "        a_w = np.copy(self.a_w)\n",
    "        b_w = np.copy(self.b_w)\n",
    "        a_h = np.copy(self.a_h)\n",
    "        b_h = np.copy(self.b_h)\n",
    "        \n",
    "        # Wの条件付き期待値\n",
    "        W_ = a_w / b_w\n",
    "        ln_W_ = sp_digamma(a_w) - np.log(b_w)\n",
    "        # Hの条件付き期待値\n",
    "        H_ = a_h / b_h\n",
    "        ln_H_ = sp_digamma(a_h) - np.log(b_h)\n",
    "        \n",
    "        # 補助変数Sのパラメータ\n",
    "        pi = np.ones((self.n, self.k, self.m, )) / self.k\n",
    "        # Sの条件付き期待値\n",
    "        S_ = X.reshape(self.n, 1, self.m) * pi\n",
    "                \n",
    "        for i in tqdm(range(self.max_iter)):\n",
    "            ### 確率分布W, Hのパラメータの更新\n",
    "            a_w = self.a_w +np.sum(S_, axis=2)\n",
    "            b_w = self.b_w + np.sum(H_, axis=1)\n",
    "            a_h = self.a_h +np.sum(S_, axis=0)\n",
    "            b_h = (self.b_h.T + np.sum(a_w / b_w, axis=0)).T\n",
    "            \n",
    "            # 条件付き期待値の更新\n",
    "            W_ = a_w / b_w\n",
    "            ln_W_ = sp_digamma(a_w) - np.log(b_w)\n",
    "            H_ = a_h / b_h\n",
    "            ln_H_ = sp_digamma(a_h) - np.log(b_h)\n",
    "            \n",
    "            ### 確率分布Sのパラメータの更新\n",
    "            pi = np.zeros((self.n, self.k, self.m))\n",
    "            S_ = np.zeros((self.n, self.k, self.m))\n",
    "            pi = np.exp(ln_W_.reshape(self.n, self.k, 1) + ln_H_.reshape(1, self.k, self.m))\n",
    "            pi = pi / np.sum(pi, axis=1).reshape(self.n, 1, self.m)\n",
    "            S_ = X.reshape(self.n, 1, self.m) * pi\n",
    "                    \n",
    "        # 確率分布Wのパラメータ\n",
    "        self.a_w = np.array(a_w)\n",
    "        self.b_w = np.array(b_w)\n",
    "        # 確率分布Hのパラメータ\n",
    "        self.a_h = np.array(a_h)\n",
    "        self.b_h = np.array(b_h)\n",
    "        \n",
    "        self.W =  self.a_w / self.b_w\n",
    "        self.H = self.a_h / self.b_h\n",
    "        return"
   ]
  },
  {
   "cell_type": "code",
   "execution_count": 436,
   "metadata": {
    "hidden": true
   },
   "outputs": [],
   "source": [
    "k = 10\n",
    "a_w =np.random.random((n, k))\n",
    "b_w = np.random.random((n, k))\n",
    "a_h = np.random.random((k, m))\n",
    "b_h = np.random.random((k, m))"
   ]
  },
  {
   "cell_type": "code",
   "execution_count": 450,
   "metadata": {
    "hidden": true,
    "scrolled": true
   },
   "outputs": [
    {
     "data": {
      "application/vnd.jupyter.widget-view+json": {
       "model_id": "0cd3ff0f33744845acc9bf129ee1177e",
       "version_major": 2,
       "version_minor": 0
      },
      "text/plain": [
       "HBox(children=(IntProgress(value=0, max=5), HTML(value='')))"
      ]
     },
     "metadata": {},
     "output_type": "display_data"
    },
    {
     "data": {
      "application/vnd.jupyter.widget-view+json": {
       "model_id": "b2ab5268d1dc48d893ee147b8995669f",
       "version_major": 2,
       "version_minor": 0
      },
      "text/plain": [
       "HBox(children=(IntProgress(value=0, max=10), HTML(value='')))"
      ]
     },
     "metadata": {},
     "output_type": "display_data"
    },
    {
     "data": {
      "application/vnd.jupyter.widget-view+json": {
       "model_id": "83e85d7f39ca4c928e7a637d7c11cf7a",
       "version_major": 2,
       "version_minor": 0
      },
      "text/plain": [
       "HBox(children=(IntProgress(value=0, max=15), HTML(value='')))"
      ]
     },
     "metadata": {},
     "output_type": "display_data"
    },
    {
     "data": {
      "application/vnd.jupyter.widget-view+json": {
       "model_id": "cbe0d033b04d41259475fdf7e0951e7f",
       "version_major": 2,
       "version_minor": 0
      },
      "text/plain": [
       "HBox(children=(IntProgress(value=0, max=20), HTML(value='')))"
      ]
     },
     "metadata": {},
     "output_type": "display_data"
    },
    {
     "data": {
      "application/vnd.jupyter.widget-view+json": {
       "model_id": "0bdd245316fa4558ab03d4404829ba76",
       "version_major": 2,
       "version_minor": 0
      },
      "text/plain": [
       "HBox(children=(IntProgress(value=0, max=25), HTML(value='')))"
      ]
     },
     "metadata": {},
     "output_type": "display_data"
    },
    {
     "data": {
      "application/vnd.jupyter.widget-view+json": {
       "model_id": "d1113f150d5146cd8c433c40d3ab4764",
       "version_major": 2,
       "version_minor": 0
      },
      "text/plain": [
       "HBox(children=(IntProgress(value=0, max=30), HTML(value='')))"
      ]
     },
     "metadata": {},
     "output_type": "display_data"
    },
    {
     "data": {
      "application/vnd.jupyter.widget-view+json": {
       "model_id": "cf18af626c314d74a985a3c4f420cf8f",
       "version_major": 2,
       "version_minor": 0
      },
      "text/plain": [
       "HBox(children=(IntProgress(value=0, max=35), HTML(value='')))"
      ]
     },
     "metadata": {},
     "output_type": "display_data"
    },
    {
     "data": {
      "application/vnd.jupyter.widget-view+json": {
       "model_id": "6be3aa45c1964944b035dcca3368b72d",
       "version_major": 2,
       "version_minor": 0
      },
      "text/plain": [
       "HBox(children=(IntProgress(value=0, max=40), HTML(value='')))"
      ]
     },
     "metadata": {},
     "output_type": "display_data"
    },
    {
     "data": {
      "application/vnd.jupyter.widget-view+json": {
       "model_id": "776c83cc8027417da11462ba1dfbddf2",
       "version_major": 2,
       "version_minor": 0
      },
      "text/plain": [
       "HBox(children=(IntProgress(value=0, max=45), HTML(value='')))"
      ]
     },
     "metadata": {},
     "output_type": "display_data"
    },
    {
     "data": {
      "application/vnd.jupyter.widget-view+json": {
       "model_id": "04b2361c6d8048558351dde125919357",
       "version_major": 2,
       "version_minor": 0
      },
      "text/plain": [
       "HBox(children=(IntProgress(value=0, max=50), HTML(value='')))"
      ]
     },
     "metadata": {},
     "output_type": "display_data"
    }
   ],
   "source": [
    "train_rsmes = []\n",
    "test_rsmes = []\n",
    "n = rating_matrix_train.shape[0]\n",
    "m = rating_matrix_train.shape[1]\n",
    "a_w =np.random.random((n, k))\n",
    "b_w = np.random.random((n, k))\n",
    "a_h = np.random.random((k, m))\n",
    "b_h = np.random.random((k, m))\n",
    "k = 10\n",
    "for i in range(10):\n",
    "    nmf = NMF(a_w, b_w, a_h, b_h, max_iter=5*(i+1))\n",
    "    nmf.fit(rating_matrix_train)\n",
    "    train_rsmes.append(calc_rmse(nmf.W, nmf.H, rating_matrix_train, rated_item_train))\n",
    "    test_rsmes.append(calc_rmse(nmf.W, nmf.H, rating_matrix_test, rated_item_test))"
   ]
  },
  {
   "cell_type": "code",
   "execution_count": 454,
   "metadata": {
    "hidden": true
   },
   "outputs": [
    {
     "data": {
      "image/png": "[encoded data removed]",
      "text/plain": [
       "<Figure size 432x288 with 1 Axes>"
      ]
     },
     "metadata": {},
     "output_type": "display_data"
    }
   ],
   "source": [
    "plt.plot(np.arange(10), train_rsmes, label=\"train\")\n",
    "plt.plot(np.arange(10), test_rsmes, label=\"test\")\n",
    "# plt.ylim(2, 4)\n",
    "plt.legend()\n",
    "plt.grid()\n",
    "plt.xticks(np.arange(10), (np.arange(10)+1)*5)\n",
    "plt.title(\"Root Mean Squared Error\")\n",
    "plt.show()"
   ]
  },
  {
   "cell_type": "code",
   "execution_count": 456,
   "metadata": {
    "hidden": true,
    "scrolled": true
   },
   "outputs": [
    {
     "data": {
      "application/vnd.jupyter.widget-view+json": {
       "model_id": "9b07ebf596d148deb38465de4cc37923",
       "version_major": 2,
       "version_minor": 0
      },
      "text/plain": [
       "HBox(children=(IntProgress(value=0, max=20), HTML(value='')))"
      ]
     },
     "metadata": {},
     "output_type": "display_data"
    },
    {
     "data": {
      "application/vnd.jupyter.widget-view+json": {
       "model_id": "36e4792d68004c40b2694192920e5c1f",
       "version_major": 2,
       "version_minor": 0
      },
      "text/plain": [
       "HBox(children=(IntProgress(value=0, max=20), HTML(value='')))"
      ]
     },
     "metadata": {},
     "output_type": "display_data"
    },
    {
     "data": {
      "application/vnd.jupyter.widget-view+json": {
       "model_id": "d9c3cf0874bd45f3b1ebf4903dd3a6e7",
       "version_major": 2,
       "version_minor": 0
      },
      "text/plain": [
       "HBox(children=(IntProgress(value=0, max=20), HTML(value='')))"
      ]
     },
     "metadata": {},
     "output_type": "display_data"
    },
    {
     "data": {
      "application/vnd.jupyter.widget-view+json": {
       "model_id": "089765eea6c142afb00b75a829452f9a",
       "version_major": 2,
       "version_minor": 0
      },
      "text/plain": [
       "HBox(children=(IntProgress(value=0, max=20), HTML(value='')))"
      ]
     },
     "metadata": {},
     "output_type": "display_data"
    },
    {
     "data": {
      "application/vnd.jupyter.widget-view+json": {
       "model_id": "3f813229dd8540eb966821565f2ed8ca",
       "version_major": 2,
       "version_minor": 0
      },
      "text/plain": [
       "HBox(children=(IntProgress(value=0, max=20), HTML(value='')))"
      ]
     },
     "metadata": {},
     "output_type": "display_data"
    },
    {
     "data": {
      "application/vnd.jupyter.widget-view+json": {
       "model_id": "2a17240e78c24fc995ae9b631e9b4e1c",
       "version_major": 2,
       "version_minor": 0
      },
      "text/plain": [
       "HBox(children=(IntProgress(value=0, max=20), HTML(value='')))"
      ]
     },
     "metadata": {},
     "output_type": "display_data"
    },
    {
     "data": {
      "application/vnd.jupyter.widget-view+json": {
       "model_id": "637194f0dd99404e9b04a05ac9ec80ae",
       "version_major": 2,
       "version_minor": 0
      },
      "text/plain": [
       "HBox(children=(IntProgress(value=0, max=20), HTML(value='')))"
      ]
     },
     "metadata": {},
     "output_type": "display_data"
    },
    {
     "data": {
      "application/vnd.jupyter.widget-view+json": {
       "model_id": "f6a739c68e584c079079ab08ca5f1b60",
       "version_major": 2,
       "version_minor": 0
      },
      "text/plain": [
       "HBox(children=(IntProgress(value=0, max=20), HTML(value='')))"
      ]
     },
     "metadata": {},
     "output_type": "display_data"
    },
    {
     "data": {
      "application/vnd.jupyter.widget-view+json": {
       "model_id": "0affffc29fc4424381bf0fdedf23848d",
       "version_major": 2,
       "version_minor": 0
      },
      "text/plain": [
       "HBox(children=(IntProgress(value=0, max=20), HTML(value='')))"
      ]
     },
     "metadata": {},
     "output_type": "display_data"
    },
    {
     "data": {
      "application/vnd.jupyter.widget-view+json": {
       "model_id": "3272d3ea944b476697f82e0bcbf7d8b8",
       "version_major": 2,
       "version_minor": 0
      },
      "text/plain": [
       "HBox(children=(IntProgress(value=0, max=20), HTML(value='')))"
      ]
     },
     "metadata": {},
     "output_type": "display_data"
    },
    {
     "data": {
      "application/vnd.jupyter.widget-view+json": {
       "model_id": "d14a2fca9479441e8582b2e7d3dafeda",
       "version_major": 2,
       "version_minor": 0
      },
      "text/plain": [
       "HBox(children=(IntProgress(value=0, max=20), HTML(value='')))"
      ]
     },
     "metadata": {},
     "output_type": "display_data"
    },
    {
     "data": {
      "application/vnd.jupyter.widget-view+json": {
       "model_id": "2240feca7693456d9b97d9b20c951208",
       "version_major": 2,
       "version_minor": 0
      },
      "text/plain": [
       "HBox(children=(IntProgress(value=0, max=20), HTML(value='')))"
      ]
     },
     "metadata": {},
     "output_type": "display_data"
    },
    {
     "data": {
      "application/vnd.jupyter.widget-view+json": {
       "model_id": "1542f20a01b048de9addcbf9c82d9b2b",
       "version_major": 2,
       "version_minor": 0
      },
      "text/plain": [
       "HBox(children=(IntProgress(value=0, max=20), HTML(value='')))"
      ]
     },
     "metadata": {},
     "output_type": "display_data"
    },
    {
     "data": {
      "application/vnd.jupyter.widget-view+json": {
       "model_id": "0d162e5b63994ba69711b991d13604e6",
       "version_major": 2,
       "version_minor": 0
      },
      "text/plain": [
       "HBox(children=(IntProgress(value=0, max=20), HTML(value='')))"
      ]
     },
     "metadata": {},
     "output_type": "display_data"
    },
    {
     "data": {
      "application/vnd.jupyter.widget-view+json": {
       "model_id": "bddd97867e3746edb13110ca1320ddd5",
       "version_major": 2,
       "version_minor": 0
      },
      "text/plain": [
       "HBox(children=(IntProgress(value=0, max=20), HTML(value='')))"
      ]
     },
     "metadata": {},
     "output_type": "display_data"
    },
    {
     "data": {
      "application/vnd.jupyter.widget-view+json": {
       "model_id": "fd24552e275647e9822968eef00b075d",
       "version_major": 2,
       "version_minor": 0
      },
      "text/plain": [
       "HBox(children=(IntProgress(value=0, max=20), HTML(value='')))"
      ]
     },
     "metadata": {},
     "output_type": "display_data"
    },
    {
     "data": {
      "application/vnd.jupyter.widget-view+json": {
       "model_id": "ca8685516314478cb5f757609530c927",
       "version_major": 2,
       "version_minor": 0
      },
      "text/plain": [
       "HBox(children=(IntProgress(value=0, max=20), HTML(value='')))"
      ]
     },
     "metadata": {},
     "output_type": "display_data"
    },
    {
     "data": {
      "application/vnd.jupyter.widget-view+json": {
       "model_id": "5a392905d0af411681d7a1ab9fa3d2d3",
       "version_major": 2,
       "version_minor": 0
      },
      "text/plain": [
       "HBox(children=(IntProgress(value=0, max=20), HTML(value='')))"
      ]
     },
     "metadata": {},
     "output_type": "display_data"
    },
    {
     "data": {
      "application/vnd.jupyter.widget-view+json": {
       "model_id": "dd4a9685d7924e548126f0e7bac234ba",
       "version_major": 2,
       "version_minor": 0
      },
      "text/plain": [
       "HBox(children=(IntProgress(value=0, max=20), HTML(value='')))"
      ]
     },
     "metadata": {},
     "output_type": "display_data"
    },
    {
     "data": {
      "application/vnd.jupyter.widget-view+json": {
       "model_id": "87f6595d7e714537bae17f502ee69cc1",
       "version_major": 2,
       "version_minor": 0
      },
      "text/plain": [
       "HBox(children=(IntProgress(value=0, max=20), HTML(value='')))"
      ]
     },
     "metadata": {},
     "output_type": "display_data"
    },
    {
     "data": {
      "application/vnd.jupyter.widget-view+json": {
       "model_id": "be763415fa044a8eaa3fc35cdfe46231",
       "version_major": 2,
       "version_minor": 0
      },
      "text/plain": [
       "HBox(children=(IntProgress(value=0, max=20), HTML(value='')))"
      ]
     },
     "metadata": {},
     "output_type": "display_data"
    },
    {
     "data": {
      "application/vnd.jupyter.widget-view+json": {
       "model_id": "340730bd16d145d59df17e219a7f0d54",
       "version_major": 2,
       "version_minor": 0
      },
      "text/plain": [
       "HBox(children=(IntProgress(value=0, max=20), HTML(value='')))"
      ]
     },
     "metadata": {},
     "output_type": "display_data"
    },
    {
     "data": {
      "application/vnd.jupyter.widget-view+json": {
       "model_id": "66a8916862484511b88fdd6aaaa04008",
       "version_major": 2,
       "version_minor": 0
      },
      "text/plain": [
       "HBox(children=(IntProgress(value=0, max=20), HTML(value='')))"
      ]
     },
     "metadata": {},
     "output_type": "display_data"
    },
    {
     "data": {
      "application/vnd.jupyter.widget-view+json": {
       "model_id": "d592587b64b44c58beefecf0eacb2b17",
       "version_major": 2,
       "version_minor": 0
      },
      "text/plain": [
       "HBox(children=(IntProgress(value=0, max=20), HTML(value='')))"
      ]
     },
     "metadata": {},
     "output_type": "display_data"
    },
    {
     "data": {
      "application/vnd.jupyter.widget-view+json": {
       "model_id": "9b359ec683bd4ed4b652baa3ed10d0d1",
       "version_major": 2,
       "version_minor": 0
      },
      "text/plain": [
       "HBox(children=(IntProgress(value=0, max=20), HTML(value='')))"
      ]
     },
     "metadata": {},
     "output_type": "display_data"
    }
   ],
   "source": [
    "train_rsmes = []\n",
    "test_rsmes = []\n",
    "n = rating_matrix_train.shape[0]\n",
    "m = rating_matrix_train.shape[1]\n",
    "for i in range(25):\n",
    "    k = (i+1)*2\n",
    "    a_w =np.random.random((n, k))\n",
    "    b_w = np.random.random((n, k))\n",
    "    a_h = np.random.random((k, m))\n",
    "    b_h = np.random.random((k, m))\n",
    "    nmf = NMF(a_w, b_w, a_h, b_h, max_iter=20)\n",
    "    nmf.fit(rating_matrix_train)\n",
    "    train_rsmes.append(calc_rmse(nmf.W, nmf.H, rating_matrix_train, rated_item_train))\n",
    "    test_rsmes.append(calc_rmse(nmf.W, nmf.H, rating_matrix_test, rated_item_test))"
   ]
  },
  {
   "cell_type": "code",
   "execution_count": 457,
   "metadata": {
    "hidden": true
   },
   "outputs": [
    {
     "data": {
      "image/png": "[encoded data removed]",
      "text/plain": [
       "<Figure size 432x288 with 1 Axes>"
      ]
     },
     "metadata": {},
     "output_type": "display_data"
    }
   ],
   "source": [
    "plt.plot(np.arange(25), train_rsmes, label=\"train\")\n",
    "plt.plot(np.arange(25), test_rsmes, label=\"test\")\n",
    "# plt.ylim(2, 4)\n",
    "plt.legend()\n",
    "plt.grid()\n",
    "plt.xticks(np.arange(25), (np.arange(25)+1)*2)\n",
    "plt.title(\"Root Mean Squared Error\")\n",
    "plt.show()"
   ]
  },
  {
   "cell_type": "code",
   "execution_count": null,
   "metadata": {
    "hidden": true
   },
   "outputs": [],
   "source": [
    "class NMF:\n",
    "    '''混合ガウスモデルをギブスサンプリングで推定する\n",
    "    '''\n",
    "    def __init__(self, a_w, b_w, a_h, b_h, max_iter=10):\n",
    "        '''事前分布の初期値を設定する\n",
    "        inputs : a_w, array(n * k), {a_w_i > 0}\n",
    "                      b_w, array(n * k), {b_w_i > 0}\n",
    "                      a_h, array(k, m), {a_h_i > 0}\n",
    "                      b_h, array(k, m), {b_h_i > 0}\n",
    "                      max_iter, int, max_iter > 0\n",
    "        '''\n",
    "        # 確率分布Wのパラメータ\n",
    "        self.a_w = np.array(a_w)\n",
    "        self.b_w = np.array(b_w)\n",
    "        # 確率分布Hのパラメータ\n",
    "        self.a_h = np.array(a_h)\n",
    "        self.b_h = np.array(b_h)\n",
    "        \n",
    "        self.max_iter = max_iter\n",
    "        self.k = self.a_w.shape[1]\n",
    "        self.n = self.a_w.shape[0]\n",
    "        self.m = self.a_h.shape[1]\n",
    "        \n",
    "    def fit(self, X):\n",
    "        '''データXをみた後の事後分布を更新\n",
    "        inputs : X, array(n * m),\n",
    "        return : None\n",
    "        '''\n",
    "        \n",
    "        a_w = np.copy(self.a_w)\n",
    "        b_w = np.copy(self.b_w)\n",
    "        a_h = np.copy(self.a_h)\n",
    "        b_h = np.copy(self.b_h)\n",
    "        \n",
    "        # Wの条件付き期待値\n",
    "        W_ = a_w / b_w\n",
    "        ln_W_ = sp_digamma(a_w) - np.log(b_w)\n",
    "        # Hの条件付き期待値\n",
    "        H_ = a_h / b_h\n",
    "        ln_H_ = sp_digamma(a_h) - np.log(b_h)\n",
    "        \n",
    "        # 補助変数Sのパラメータ\n",
    "        pi = np.ones((self.n, self.k, self.m, )) / self.k\n",
    "        # Sの条件付き期待値\n",
    "        S_ = X.reshape(self.n, 1, self.m) * pi\n",
    "                \n",
    "        for i in tqdm(range(self.max_iter)):\n",
    "            ### 確率分布W, Hのパラメータの更新\n",
    "            a_w = self.a_w +np.sum(S_, axis=2)\n",
    "            b_w = self.b_w + np.sum(H_, axis=1)\n",
    "            a_h = self.a_h +np.sum(S_, axis=0)\n",
    "            b_h = (self.b_h.T + np.sum(a_w / b_w, axis=0)).T\n",
    "            \n",
    "            # 条件付き期待値の更新\n",
    "            W_ = a_w / b_w\n",
    "            ln_W_ = sp_digamma(a_w) - np.log(b_w)\n",
    "            H_ = a_h / b_h\n",
    "            ln_H_ = sp_digamma(a_h) - np.log(b_h)\n",
    "            \n",
    "            ### 確率分布Sのパラメータの更新\n",
    "            pi = np.zeros((self.n, self.k, self.m))\n",
    "            S_ = np.zeros((self.n, self.k, self.m))\n",
    "            pi = np.exp(ln_W_.reshape(self.n, self.k, 1) + ln_H_.reshape(1, self.k, self.m))\n",
    "            pi = pi / np.sum(pi, axis=1).reshape(self.n, 1, self.m)\n",
    "            S_ = X.reshape(self.n, 1, self.m) * pi\n",
    "                    \n",
    "        # 確率分布Wのパラメータ\n",
    "        self.a_w = np.array(a_w)\n",
    "        self.b_w = np.array(b_w)\n",
    "        # 確率分布Hのパラメータ\n",
    "        self.a_h = np.array(a_h)\n",
    "        self.b_h = np.array(b_h)\n",
    "        \n",
    "        self.W =  self.a_w / self.b_w\n",
    "        self.H = self.a_h / self.b_h\n",
    "        return"
   ]
  },
  {
   "cell_type": "markdown",
   "metadata": {},
   "source": [
    "# 隠れマルコフ"
   ]
  },
  {
   "cell_type": "code",
   "execution_count": 93,
   "metadata": {},
   "outputs": [],
   "source": [
    "# toy problem 1\n",
    "x = np.r_[np.random.poisson(30, 20), \n",
    "                  np.random.poisson(10, 20),\n",
    "                  np.random.poisson(30, 20),\n",
    "                  np.random.poisson(50, 20),\n",
    "                  np.random.poisson(10, 20)]\n",
    "\n",
    "# toy probelm 2\n",
    "x = np.r_[np.random.poisson(30, 20), \n",
    "                  np.random.poisson(20, 20),\n",
    "                  np.random.poisson(30, 20),\n",
    "                  np.random.poisson(40, 20),\n",
    "                  np.random.poisson(20, 20)]"
   ]
  },
  {
   "cell_type": "code",
   "execution_count": 428,
   "metadata": {},
   "outputs": [
    {
     "data": {
      "image/png": "[encoded data removed]",
      "text/plain": [
       "<Figure size 432x288 with 1 Axes>"
      ]
     },
     "metadata": {},
     "output_type": "display_data"
    }
   ],
   "source": [
    "plt.plot(X_2)\n",
    "plt.show()"
   ]
  },
  {
   "cell_type": "code",
   "execution_count": 420,
   "metadata": {},
   "outputs": [],
   "source": [
    "class Poisson_HMM:\n",
    "    '''ポアソン隠れマルコフモデルを完全分解変分推論で解く\n",
    "    '''\n",
    "    def __init__(self, a_lam, b_lam, alpha_pi, beta_A, max_iter=10):\n",
    "        '''事前分布の初期値を設定する\n",
    "        inputs : lam, array(k), {lam_i > 0}\n",
    "                      alpha_pi, array(k), sum(alpha_pi) = 1, {alpha_pi_i > 0}\n",
    "                      beta_A, array(k * k), sum(beta_A, axis=0) = 1, {beta_A_ij > 0}\n",
    "        '''\n",
    "        # ポアソン分布のパラメータ\n",
    "        self.a_lam = np.array(a_lam)\n",
    "        self.b_lam = np.array(b_lam)\n",
    "        \n",
    "        # 初期確率のパラメータ\n",
    "        self.alpha_pi = np.array(alpha_pi)\n",
    "        \n",
    "        # 遷移確率行列のパラメータ\n",
    "        self.beta_A = np.array(beta_A)\n",
    "        \n",
    "        self.max_iter = max_iter\n",
    "        self.K = self.beta_A.shape[1]\n",
    "        \n",
    "    def fit(self, X):\n",
    "        '''データXをみた後の事後分布を更新\n",
    "        inputs : X, array(n),\n",
    "        return : None\n",
    "        '''\n",
    "        \n",
    "        N = X.shape[0]\n",
    "                    \n",
    "        # 隠れ変数の条件付き期待値(怪しいけど)\n",
    "        eta = np.random.multinomial(1, [1/3, 1/3, 1/3], size=N)\n",
    "#         eta = np.ones((N, self.K)) / self.K\n",
    "        \n",
    "        for i in range(self.max_iter):\n",
    "            # ポアソン分布のパラメータの更新\n",
    "            a_lam = np.dot(eta.T, X) + self.a_lam\n",
    "            b_lam = np.sum(eta, axis=0) + self.b_lam\n",
    "            \n",
    "            # 初期確率のパラメータの更新\n",
    "            alpha_pi = eta[0, :] + self.alpha_pi\n",
    "            \n",
    "            # 遷移確率行列のパラメータの更新\n",
    "            beta_A = np.dot(eta[1:, :].T, eta[:-1, :]) + self.beta_A\n",
    "            \n",
    "            # 条件付き期待値の計算\n",
    "            log_pi_ = sp_digamma(alpha_pi) - sp_digamma(alpha_pi.sum())\n",
    "            lam_ = a_lam / b_lam\n",
    "            log_lam_ = sp_digamma(a_lam) - np.log(b_lam)\n",
    "            log_beta_A_ = sp_digamma(beta_A) - sp_digamma(np.sum(beta_A, axis=0))\n",
    "            \n",
    "            # 隠れ変数のパラメータの更新\n",
    "            eta_s = []\n",
    "            p_x_ = np.dot(X.reshape(-1, 1), log_lam_.reshape(1, -1)) - lam_\n",
    "            tmp = np.exp(p_x_[0, :] + log_pi_ + np.dot(eta[1], log_beta_A_))\n",
    "            eta_s.append(tmp / tmp.sum())\n",
    "            for i in range(1, N-1):\n",
    "                tmp = np.exp(p_x_[i, :] + log_pi_ + np.dot(eta[i-1], log_beta_A_) + np.dot(eta[i+1], log_beta_A_))\n",
    "                eta_s.append(tmp / tmp.sum())\n",
    "            tmp = np.exp(p_x_[N-1, :] + log_pi_ + np.dot(eta[N-2], log_beta_A_))\n",
    "            eta_s.append(tmp / tmp.sum())\n",
    "            eta = np.array(eta_s)\n",
    "                    \n",
    "        # 事後分布\n",
    "        self.a_lam = np.array(a_lam)\n",
    "        self.b_lam = np.array(b_lam)\n",
    "        self.alpha_pi = np.array(alpha_pi)\n",
    "        self.beta_A = np.array(beta_A)\n",
    "        self.eta = np.array(eta)\n",
    "        return"
   ]
  },
  {
   "cell_type": "code",
   "execution_count": 334,
   "metadata": {},
   "outputs": [],
   "source": [
    "# toy problem 1\n",
    "X_1 = np.r_[np.random.poisson(30, 20), \n",
    "                  np.random.poisson(10, 20),\n",
    "                  np.random.poisson(50, 20),\n",
    "                  np.random.poisson(10, 20),\n",
    "                  np.random.poisson(30, 20)]\n",
    "\n",
    "# toy probelm 2\n",
    "X_2 = np.r_[np.random.poisson(30, 20), \n",
    "                  np.random.poisson(20, 20),\n",
    "                  np.random.poisson(30, 20),\n",
    "                  np.random.poisson(40, 20),\n",
    "                  np.random.poisson(20, 20)]"
   ]
  },
  {
   "cell_type": "code",
   "execution_count": 427,
   "metadata": {},
   "outputs": [
    {
     "name": "stdout",
     "output_type": "stream",
     "text": [
      "[10.64307406 48.21044964 31.48033264]\n"
     ]
    },
    {
     "data": {
      "image/png": "[encoded data removed]",
      "text/plain": [
       "<Figure size 432x288 with 1 Axes>"
      ]
     },
     "metadata": {},
     "output_type": "display_data"
    },
    {
     "name": "stdout",
     "output_type": "stream",
     "text": [
      "[19.16653337 21.91507612 34.18334246]\n"
     ]
    },
    {
     "data": {
      "image/png": "[encoded data removed]",
      "text/plain": [
       "<Figure size 432x288 with 1 Axes>"
      ]
     },
     "metadata": {},
     "output_type": "display_data"
    }
   ],
   "source": [
    "a_lam = np.array([60, 90, 150])\n",
    "b_lam = np.array([3, 3, 3])\n",
    "alpha_pi = np.ones(3)/3\n",
    "beta_A = np.array([[3,3,3], [3,3, 3], [3, 3, 3]])\n",
    "\n",
    "poi_hmm = Poisson_HMM(a_lam, b_lam, alpha_pi, beta_A, max_iter=1000)\n",
    "poi_hmm.fit(X_1)\n",
    "print(poi_hmm.a_lam / poi_hmm.b_lam)\n",
    "# 結果の描画\n",
    "for i in range(X_1.shape[0]):\n",
    "    plt.scatter(i, X_1[i], color=poi_hmm.eta[i])\n",
    "plt.title(\"easy example\")\n",
    "plt.show()\n",
    "    \n",
    "a_lam = np.array([60, 90, 150])\n",
    "b_lam = np.array([3, 3, 3])\n",
    "poi_hmm = Poisson_HMM(a_lam, b_lam, alpha_pi, beta_A, max_iter=10)\n",
    "poi_hmm.fit(X_2)\n",
    "print(poi_hmm.a_lam / poi_hmm.b_lam)\n",
    "# 結果の描画\n",
    "for i in range(X_2.shape[0]):\n",
    "    plt.scatter(i, X_2[i], color=poi_hmm.eta[i])\n",
    "plt.title(\"hard example\")\n",
    "plt.show()"
   ]
  },
  {
   "cell_type": "code",
   "execution_count": 402,
   "metadata": {},
   "outputs": [],
   "source": [
    "class Poisson_HMM_fb:\n",
    "    '''ポアソン隠れマルコフモデルを構造化変分推論で解く\n",
    "    '''\n",
    "    def __init__(self, a_lam, b_lam, alpha_pi, beta_A, max_iter=10):\n",
    "        '''事前分布の初期値を設定する\n",
    "        inputs : lam, array(k), {lam_i > 0}\n",
    "                      alpha_pi, array(k), sum(alpha_pi) = 1, {alpha_pi_i > 0}\n",
    "                      beta_A, array(k * k), sum(beta_A, axis=0) = 1, {beta_A_ij > 0}\n",
    "        '''\n",
    "        # ポアソン分布のパラメータ\n",
    "        self.a_lam = np.array(a_lam)\n",
    "        self.b_lam = np.array(b_lam)\n",
    "        \n",
    "        # 初期確率のパラメータ\n",
    "        self.alpha_pi = np.array(alpha_pi)\n",
    "        \n",
    "        # 遷移確率行列のパラメータ\n",
    "        self.beta_A = np.array(beta_A)\n",
    "        \n",
    "        self.max_iter = max_iter\n",
    "        self.K = self.beta_A.shape[1]\n",
    "        \n",
    "    def fit(self, X):\n",
    "        '''データXをみた後の事後分布を更新\n",
    "        inputs : X, array(n),\n",
    "        return : None\n",
    "        '''\n",
    "        \n",
    "        N = X.shape[0]\n",
    "        \n",
    "                    \n",
    "        # 隠れ変数の条件付き期待値(怪しいけど)\n",
    "        eta = np.random.multinomial(1, [1/3, 1/3, 1/3], size=N)\n",
    "        \n",
    "        for i in range(self.max_iter):\n",
    "            # ポアソン分布のパラメータの更新\n",
    "            a_lam = np.dot(eta.T, X) + self.a_lam\n",
    "            b_lam = np.sum(eta, axis=0) + self.b_lam\n",
    "            \n",
    "            # 初期確率のパラメータの更新\n",
    "            alpha_pi = eta[0, :] + self.alpha_pi\n",
    "            \n",
    "            # 遷移確率行列のパラメータの更新\n",
    "            beta_A = np.dot(eta[1:, :].T, eta[:-1, :]) + self.beta_A\n",
    "            \n",
    "            # 条件付き期待値の計算\n",
    "            log_pi_ = sp_digamma(alpha_pi) - sp_digamma(alpha_pi.sum())\n",
    "            lam_ = a_lam / b_lam\n",
    "            log_lam_ = sp_digamma(a_lam) - np.log(b_lam)\n",
    "            log_beta_A_ = sp_digamma(beta_A) - sp_digamma(np.sum(beta_A, axis=0))\n",
    "            \n",
    "            # 隠れ変数のパラメータの更新\n",
    "            f_s = np.zeros((N, self.K))\n",
    "            b_s = np.ones((N, self.K))\n",
    "            p_x_ = np.dot(X.reshape(-1, 1), log_lam_.reshape(1, -1)) - lam_\n",
    "            p_x_ = np.exp(p_x_) / np.sum(np.exp(p_x_), axis=1).reshape(-1, 1)\n",
    "            tmp = p_x_[0] * (np.exp(log_pi_) / np.exp(log_pi_).sum())\n",
    "            f_s[0] = tmp / tmp.sum()\n",
    "            for i in range(1, N):\n",
    "                tmp = p_x_[i] * np.dot(f_s[i-1], np.exp(log_beta_A_))\n",
    "                f_s[i] = tmp / tmp.sum()\n",
    "                tmp = np.dot(p_x_[-i]*b_s[-i], np.exp(log_beta_A_))\n",
    "                b_s[-(i+1)] = tmp / tmp.sum()\n",
    "            eta = f_s * b_s\n",
    "                \n",
    "                    \n",
    "        # 事後分布\n",
    "        self.a_lam = np.array(a_lam)\n",
    "        self.b_lam = np.array(b_lam)\n",
    "        self.alpha_pi = np.array(alpha_pi)\n",
    "        self.beta_A = np.array(beta_A)\n",
    "        self.eta = np.array(eta)\n",
    "        return"
   ]
  },
  {
   "cell_type": "code",
   "execution_count": 431,
   "metadata": {},
   "outputs": [
    {
     "name": "stdout",
     "output_type": "stream",
     "text": [
      "[27.62556463 46.54887319 12.60486526]\n"
     ]
    },
    {
     "data": {
      "image/png": "[encoded data removed]",
      "text/plain": [
       "<Figure size 432x288 with 1 Axes>"
      ]
     },
     "metadata": {},
     "output_type": "display_data"
    },
    {
     "name": "stdout",
     "output_type": "stream",
     "text": [
      "[20.68490783 32.80476525 37.77556778]\n"
     ]
    },
    {
     "data": {
      "image/png": "[encoded data removed]",
      "text/plain": [
       "<Figure size 432x288 with 1 Axes>"
      ]
     },
     "metadata": {},
     "output_type": "display_data"
    }
   ],
   "source": [
    "a_lam = np.array([20, 60, 100])\n",
    "b_lam = np.array([2, 2, 2])\n",
    "alpha_pi = np.ones(3)/3\n",
    "beta_A = np.array([[3,3,3], [3,3, 3], [3, 3, 3]])\n",
    "\n",
    "poi_hmm = Poisson_HMM_fb(a_lam, b_lam, alpha_pi, beta_A, max_iter=10)\n",
    "poi_hmm.fit(X_1)\n",
    "print(poi_hmm.a_lam / poi_hmm.b_lam)\n",
    "# 結果の描画\n",
    "for i in range(X_1.shape[0]):\n",
    "    plt.scatter(i, X_1[i], color=poi_hmm.eta[i])\n",
    "plt.title(\"easy example\")\n",
    "plt.show()\n",
    "    \n",
    "a_lam = np.array([40, 60, 80])\n",
    "b_lam = np.array([2, 2, 2])\n",
    "poi_hmm = Poisson_HMM_fb(a_lam, b_lam, alpha_pi, beta_A, max_iter=10)\n",
    "poi_hmm.fit(X_2)\n",
    "print(poi_hmm.a_lam / poi_hmm.b_lam)\n",
    "# 結果の描画\n",
    "for i in range(X_2.shape[0]):\n",
    "    plt.scatter(i, X_2[i], color=poi_hmm.eta[i])\n",
    "plt.title(\"hard example\")\n",
    "plt.show()"
   ]
  },
  {
   "cell_type": "code",
   "execution_count": null,
   "metadata": {},
   "outputs": [],
   "source": []
  }
 ],
 "metadata": {
  "kernelspec": {
   "display_name": "Python 3",
   "language": "python",
   "name": "python3"
  },
  "language_info": {
   "codemirror_mode": {
    "name": "ipython",
    "version": 3
   },
   "file_extension": ".py",
   "mimetype": "text/x-python",
   "name": "python",
   "nbconvert_exporter": "python",
   "pygments_lexer": "ipython3",
   "version": "3.6.7"
  },
  "toc": {
   "base_numbering": 1,
   "nav_menu": {},
   "number_sections": true,
   "sideBar": true,
   "skip_h1_title": false,
   "title_cell": "Table of Contents",
   "title_sidebar": "Contents",
   "toc_cell": false,
   "toc_position": {},
   "toc_section_display": true,
   "toc_window_display": true
  }
 },
 "nbformat": 4,
 "nbformat_minor": 2
}
